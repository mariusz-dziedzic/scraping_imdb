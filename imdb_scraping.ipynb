{
 "cells": [
  {
   "cell_type": "code",
   "execution_count": 1,
   "id": "6b0a1bc3",
   "metadata": {},
   "outputs": [],
   "source": [
    "# Import libraries\n",
    "import numpy as np\n",
    "import pandas as pd\n",
    "import requests\n",
    "from bs4 import BeautifulSoup\n",
    "import urllib.request\n",
    "import ssl\n",
    "\n",
    "ctx = ssl.create_default_context()\n",
    "ctx.check_hostname = False\n",
    "ctx.verify_mode = ssl.CERT_NONE"
   ]
  },
  {
   "cell_type": "code",
   "execution_count": 2,
   "id": "a8f7bc8c",
   "metadata": {},
   "outputs": [],
   "source": [
    "# Get updated IMDB data on the 250 greatest movies of all time with web scraping.\n",
    "# Information is collected about:\n",
    "# - Title\n",
    "# - Publication date\n",
    "# - Rating\n",
    "# - Number of votes \n",
    "\n",
    "title_list = []\n",
    "year_list = []\n",
    "raiting_list = []\n",
    "vote_list = []\n",
    "\n",
    "\n",
    "def top_250_movie():\n",
    "    count = 1\n",
    "    url = 'https://www.imdb.com/chart/top/?ref_=nv_mv_250'\n",
    "    answer = urllib.request.urlopen(url, context=ctx).read()\n",
    "    soup = BeautifulSoup(answer, 'html.parser')\n",
    "    \n",
    "    # Title and year\n",
    "    name_class = 'titleColumn'\n",
    "    for link in soup.find_all('td', class_=name_class):\n",
    "        movie = link.text.splitlines()\n",
    "        movie[2] = movie[2].strip()\n",
    "        title_list.append(movie[2])\n",
    "        year_list.append(movie[3])\n",
    "\n",
    "    # Rating\n",
    "    name_class = 'ratingColumn imdbRating'\n",
    "    for link in soup.find_all('td', class_=name_class):\n",
    "        raiting = link.find(\"strong\")\n",
    "        raiting_list.append(raiting.text)\n",
    "\n",
    "    # Total vote\n",
    "    name_class = 'ratingColumn imdbRating'\n",
    "    for link in soup.find_all('td', class_=name_class):\n",
    "        element = link.find('strong')['title']\n",
    "        element = element.split()\n",
    "        vote_list.append(element[3])\n",
    "\n",
    "    # Print data\n",
    "    # print(\"TOP 250 MOVIES\")\n",
    "    # for m, y, r, v in zip(title_list, year_list, raiting_list, vote_list):\n",
    "        # print(str(count) + '.', m, y, '  * ' + r + ' - ' + v)\n",
    "        # count += 1\n",
    "\n",
    "\n",
    "top_250_movie()\n"
   ]
  },
  {
   "cell_type": "code",
   "execution_count": 3,
   "id": "1ed0ced0",
   "metadata": {},
   "outputs": [],
   "source": [
    "# Convert Total Vote to Integer type data\n",
    "try:\n",
    "    vote_list = [x.replace(',', '') for x in vote_list]\n",
    "    vote_list = [int(x) for x in vote_list]\n",
    "except:\n",
    "    print(\"Error or already done \")  \n",
    "# print(\"Total votes\", sum(vote_list))\n",
    "# print(\"Average for a movie \", sum(vote_list)/250)"
   ]
  },
  {
   "cell_type": "code",
   "execution_count": 4,
   "id": "08ca8e13",
   "metadata": {},
   "outputs": [],
   "source": [
    "# Removing brackets from the 'Year'\n",
    "try:\n",
    "    year_list = [x.replace('(', '') for x in year_list]\n",
    "    year_list = [x.replace(')', '') for x in year_list]\n",
    "    year_list = [int(x) for x in year_list]\n",
    "except:\n",
    "    print(\"Error or already done \")\n"
   ]
  },
  {
   "cell_type": "code",
   "execution_count": 5,
   "id": "c6991505",
   "metadata": {},
   "outputs": [],
   "source": [
    "# Convert Raiting to Float type data\n",
    "raiting_list = [float(x) for x in raiting_list]"
   ]
  },
  {
   "cell_type": "code",
   "execution_count": 6,
   "id": "5b2f7d64",
   "metadata": {},
   "outputs": [],
   "source": [
    "# Save data to file\n",
    "col1 = \"Title\"\n",
    "col2 = \"Year\"\n",
    "col3 = \"Rating\"\n",
    "col4 = \"Total Vote\"\n",
    "data = pd.DataFrame({col1:title_list, col2:year_list, col3:raiting_list, col4:vote_list})\n",
    "data.to_excel('imdb_data.xlsx', sheet_name='Top250', index=False)\n"
   ]
  },
  {
   "cell_type": "code",
   "execution_count": 7,
   "id": "9e418fa2",
   "metadata": {},
   "outputs": [],
   "source": [
    "# Read data from file Excel\n",
    "df = pd.read_excel('imdb_data.xlsx', index_col=0) "
   ]
  },
  {
   "cell_type": "code",
   "execution_count": 8,
   "id": "a01d35a3",
   "metadata": {},
   "outputs": [
    {
     "data": {
      "text/html": [
       "<div>\n",
       "<style scoped>\n",
       "    .dataframe tbody tr th:only-of-type {\n",
       "        vertical-align: middle;\n",
       "    }\n",
       "\n",
       "    .dataframe tbody tr th {\n",
       "        vertical-align: top;\n",
       "    }\n",
       "\n",
       "    .dataframe thead th {\n",
       "        text-align: right;\n",
       "    }\n",
       "</style>\n",
       "<table border=\"1\" class=\"dataframe\">\n",
       "  <thead>\n",
       "    <tr style=\"text-align: right;\">\n",
       "      <th></th>\n",
       "      <th>Year</th>\n",
       "      <th>Rating</th>\n",
       "      <th>Total Vote</th>\n",
       "    </tr>\n",
       "    <tr>\n",
       "      <th>Title</th>\n",
       "      <th></th>\n",
       "      <th></th>\n",
       "      <th></th>\n",
       "    </tr>\n",
       "  </thead>\n",
       "  <tbody>\n",
       "    <tr>\n",
       "      <th>Skazani na Shawshank</th>\n",
       "      <td>1994</td>\n",
       "      <td>9.200000</td>\n",
       "      <td>2568594</td>\n",
       "    </tr>\n",
       "    <tr>\n",
       "      <th>Ojciec chrzestny</th>\n",
       "      <td>1972</td>\n",
       "      <td>9.200000</td>\n",
       "      <td>1768350</td>\n",
       "    </tr>\n",
       "    <tr>\n",
       "      <th>Mroczny Rycerz</th>\n",
       "      <td>2008</td>\n",
       "      <td>9.000000</td>\n",
       "      <td>2533335</td>\n",
       "    </tr>\n",
       "    <tr>\n",
       "      <th>Ojciec chrzestny II</th>\n",
       "      <td>1974</td>\n",
       "      <td>9.000000</td>\n",
       "      <td>1223402</td>\n",
       "    </tr>\n",
       "    <tr>\n",
       "      <th>Dwunastu gniewnych ludzi</th>\n",
       "      <td>1957</td>\n",
       "      <td>9.000000</td>\n",
       "      <td>758596</td>\n",
       "    </tr>\n",
       "  </tbody>\n",
       "</table>\n",
       "</div>"
      ],
      "text/plain": [
       "                          Year   Rating  Total Vote\n",
       "Title                                              \n",
       "Skazani na Shawshank      1994 9.200000     2568594\n",
       "Ojciec chrzestny          1972 9.200000     1768350\n",
       "Mroczny Rycerz            2008 9.000000     2533335\n",
       "Ojciec chrzestny II       1974 9.000000     1223402\n",
       "Dwunastu gniewnych ludzi  1957 9.000000      758596"
      ]
     },
     "execution_count": 8,
     "metadata": {},
     "output_type": "execute_result"
    }
   ],
   "source": [
    "# Head data\n",
    "pd.set_option('float_format', '{:f}'.format)\n",
    "df.head()"
   ]
  },
  {
   "cell_type": "code",
   "execution_count": 9,
   "id": "c92ade29",
   "metadata": {},
   "outputs": [],
   "source": [
    "# df.groupby(by=[\"Year\"]).sum()\n",
    "# df[['Year','Total Vote']].groupby('Year').sum()"
   ]
  },
  {
   "cell_type": "code",
   "execution_count": 10,
   "id": "e15cde97",
   "metadata": {},
   "outputs": [],
   "source": [
    "# Grouping data by decade\n",
    "decade_number =  df[['Total Vote']].groupby(pd.cut(df[\"Year\"], np.arange(1920, 2030+10, 10), right=False)).size().to_frame('Number')\n",
    "dn = pd.DataFrame(decade_number)"
   ]
  },
  {
   "cell_type": "code",
   "execution_count": 11,
   "id": "b465594b",
   "metadata": {},
   "outputs": [],
   "source": [
    "# Grouping data by ratings\n",
    "rating_number = df.groupby(['Rating']).size().to_frame('Number')\n",
    "rn = pd.DataFrame(rating_number)"
   ]
  },
  {
   "cell_type": "code",
   "execution_count": 12,
   "id": "ff22c4a8",
   "metadata": {},
   "outputs": [
    {
     "data": {
      "image/png": "[encoded data removed]",
      "text/plain": [
       "<Figure size 432x288 with 1 Axes>"
      ]
     },
     "metadata": {
      "needs_background": "light"
     },
     "output_type": "display_data"
    }
   ],
   "source": [
    "rating_bar = rn.plot.bar(color='red')"
   ]
  },
  {
   "cell_type": "code",
   "execution_count": 13,
   "id": "efb23d4e",
   "metadata": {},
   "outputs": [
    {
     "data": {
      "image/png": "[encoded data removed]",
      "text/plain": [
       "<Figure size 432x288 with 1 Axes>"
      ]
     },
     "metadata": {
      "needs_background": "light"
     },
     "output_type": "display_data"
    }
   ],
   "source": [
    "decade_bar = dn.plot.bar(color='green')"
   ]
  },
  {
   "cell_type": "code",
   "execution_count": 14,
   "id": "a50966e7",
   "metadata": {
    "scrolled": true
   },
   "outputs": [
    {
     "data": {
      "text/html": [
       "<div>\n",
       "<style scoped>\n",
       "    .dataframe tbody tr th:only-of-type {\n",
       "        vertical-align: middle;\n",
       "    }\n",
       "\n",
       "    .dataframe tbody tr th {\n",
       "        vertical-align: top;\n",
       "    }\n",
       "\n",
       "    .dataframe thead th {\n",
       "        text-align: right;\n",
       "    }\n",
       "</style>\n",
       "<table border=\"1\" class=\"dataframe\">\n",
       "  <thead>\n",
       "    <tr style=\"text-align: right;\">\n",
       "      <th></th>\n",
       "      <th>Year</th>\n",
       "      <th>Rating</th>\n",
       "      <th>Total Vote</th>\n",
       "    </tr>\n",
       "  </thead>\n",
       "  <tbody>\n",
       "    <tr>\n",
       "      <th>count</th>\n",
       "      <td>250.000000</td>\n",
       "      <td>250.000000</td>\n",
       "      <td>250.000000</td>\n",
       "    </tr>\n",
       "    <tr>\n",
       "      <th>mean</th>\n",
       "      <td>1986.328000</td>\n",
       "      <td>8.260000</td>\n",
       "      <td>614724.240000</td>\n",
       "    </tr>\n",
       "    <tr>\n",
       "      <th>std</th>\n",
       "      <td>25.114285</td>\n",
       "      <td>0.235929</td>\n",
       "      <td>493393.133079</td>\n",
       "    </tr>\n",
       "    <tr>\n",
       "      <th>min</th>\n",
       "      <td>1921.000000</td>\n",
       "      <td>8.000000</td>\n",
       "      <td>27815.000000</td>\n",
       "    </tr>\n",
       "    <tr>\n",
       "      <th>25%</th>\n",
       "      <td>1966.250000</td>\n",
       "      <td>8.100000</td>\n",
       "      <td>220390.750000</td>\n",
       "    </tr>\n",
       "    <tr>\n",
       "      <th>50%</th>\n",
       "      <td>1994.000000</td>\n",
       "      <td>8.200000</td>\n",
       "      <td>478121.000000</td>\n",
       "    </tr>\n",
       "    <tr>\n",
       "      <th>75%</th>\n",
       "      <td>2006.000000</td>\n",
       "      <td>8.400000</td>\n",
       "      <td>924454.250000</td>\n",
       "    </tr>\n",
       "    <tr>\n",
       "      <th>max</th>\n",
       "      <td>2022.000000</td>\n",
       "      <td>9.200000</td>\n",
       "      <td>2568594.000000</td>\n",
       "    </tr>\n",
       "  </tbody>\n",
       "</table>\n",
       "</div>"
      ],
      "text/plain": [
       "             Year     Rating     Total Vote\n",
       "count  250.000000 250.000000     250.000000\n",
       "mean  1986.328000   8.260000  614724.240000\n",
       "std     25.114285   0.235929  493393.133079\n",
       "min   1921.000000   8.000000   27815.000000\n",
       "25%   1966.250000   8.100000  220390.750000\n",
       "50%   1994.000000   8.200000  478121.000000\n",
       "75%   2006.000000   8.400000  924454.250000\n",
       "max   2022.000000   9.200000 2568594.000000"
      ]
     },
     "execution_count": 14,
     "metadata": {},
     "output_type": "execute_result"
    }
   ],
   "source": [
    "# Basic information about the data\n",
    "df.describe()"
   ]
  },
  {
   "cell_type": "code",
   "execution_count": 15,
   "id": "04c805a1",
   "metadata": {},
   "outputs": [],
   "source": [
    "# Dominant in Year and Rating\n",
    "# df[['Year', 'Rating']].mode()\n",
    "# df[['Year']].value_counts()\n",
    "# df[['Rating']].value_counts()"
   ]
  },
  {
   "cell_type": "code",
   "execution_count": 16,
   "id": "e1812306",
   "metadata": {},
   "outputs": [],
   "source": [
    "# df[['Year']].idxmin()\n",
    "# df[['Year']].idxmax()\n",
    "# df[['Total Vote']].idxmin()\n",
    "# df[['Total Vote']].idxmax()"
   ]
  },
  {
   "cell_type": "markdown",
   "id": "93682186",
   "metadata": {},
   "source": [
    "There are 250 total observations (Top 250 movies)\n",
    "\\\n",
    "(Data as of April 2, 2022)\n",
    "\n",
    "Interpretation of the 'Year' variable:\n",
    "- The oldest film is from 1921 (The Kid) and the youngest is from 2022 (The Batman)\n",
    "- Most films come from 1995 (8 films). As for the decade, the most films were produced in the years 2000 - 2010 (48 films)\n",
    "- Q1 = 1966. This means that 25% of films (approx. 63 films) were released before this year or 75% (approx. 188 films) of the films were released after 1996.\n",
    "- Q2 = 1994. This means that 50% of the films (125 films) were released before this year or 50% of the films were released after 1994.\n",
    "- Q3 = 2006. This means that 75% of the films were released before this year or 25% of the films were released after 2006.\n",
    "\n",
    "\n",
    "Interpretation of the 'Rating' variable:\n",
    "- The lowest movie rating is 8.0 and the highest is 9.2 (2 films: The Shawshank Redemption, The Godfather)\n",
    "- Most films have a rating of 8.1 (68 films)\n",
    "- Average rating for Top 250 movies is 8.26\n",
    "- The standard deviation is 0.24. This means that the average rating of the film differs from the average (8.26) -> ~ 8.0 - 8.5\n",
    "- Q1 = 8.1. This means that 25% of the films have a rating lower than 8.1 or 75% of the films have a higher rating\n",
    "- Q2 = 8.2. This means that 50% of the films have a rating lower than 8.2 or 50% have a higher rating\n",
    "- Q3 = 8.4. This means that 75% of the films have a rating lower than 8.4 or 25% have a higher rating\n",
    "\n",
    "\n",
    "Interpretation of the 'Total Vote' variable:\n",
    "- The total number of votes cast for the top 250 films is over 153 million\n",
    "- On average, one film has over 600,000 votes.\n",
    "- However, the standard deviation is very large, around 500,000.\n",
    "- This means that there are a lot of movies that have very few votes and those that have a lot of votes -> ~ 120k - 1,1mln\n",
    "- The film Dersu Uzała has the lowest number of votes (approx. 28 thousand).\n",
    "- The film Shawshank Redemption has the most votes (approx. 2.56 million)\n"
   ]
  }
 ],
 "metadata": {
  "kernelspec": {
   "display_name": "Python 3",
   "language": "python",
   "name": "python3"
  },
  "language_info": {
   "codemirror_mode": {
    "name": "ipython",
    "version": 3
   },
   "file_extension": ".py",
   "mimetype": "text/x-python",
   "name": "python",
   "nbconvert_exporter": "python",
   "pygments_lexer": "ipython3",
   "version": "3.8.8"
  }
 },
 "nbformat": 4,
 "nbformat_minor": 5
}
